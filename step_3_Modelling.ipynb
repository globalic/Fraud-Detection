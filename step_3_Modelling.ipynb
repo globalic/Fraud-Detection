{
 "cells": [
  {
   "cell_type": "markdown",
   "metadata": {},
   "source": [
    "# Modelling"
   ]
  },
  {
   "cell_type": "code",
   "execution_count": 1,
   "metadata": {},
   "outputs": [],
   "source": [
    "import matplotlib.pyplot as plt\n",
    "import pandas as pd\n",
    "import numpy as np\n",
    "from sklearn.model_selection import train_test_split, cross_val_score\n",
    "from sklearn.linear_model import LogisticRegression as LR\n",
    "from sklearn.pipeline import Pipeline\n",
    "from sklearn.metrics import f1_score, roc_auc_score, roc_curve, auc\n",
    "from sklearn.metrics import classification_report, accuracy_score\n",
    "from bs4 import BeautifulSoup\n",
    "from sklearn.feature_extraction.text import TfidfVectorizer\n",
    "from nltk.stem.snowball import SnowballStemmer\n",
    "from nltk.tokenize import word_tokenize\n",
    "from sklearn.metrics import confusion_matrix\n",
    "\n",
    "import warnings\n",
    "warnings.filterwarnings('ignore')"
   ]
  },
  {
   "cell_type": "code",
   "execution_count": 2,
   "metadata": {},
   "outputs": [],
   "source": [
    "df = pd.read_json('data/data.json')"
   ]
  },
  {
   "cell_type": "code",
   "execution_count": 3,
   "metadata": {},
   "outputs": [
    {
     "data": {
      "text/plain": [
       "(14337, 44)"
      ]
     },
     "execution_count": 3,
     "metadata": {},
     "output_type": "execute_result"
    }
   ],
   "source": [
    "df.shape"
   ]
  },
  {
   "cell_type": "markdown",
   "metadata": {},
   "source": [
    "### Feature Engineering"
   ]
  },
  {
   "cell_type": "markdown",
   "metadata": {},
   "source": [
    "**Target : fraud**"
   ]
  },
  {
   "cell_type": "code",
   "execution_count": 4,
   "metadata": {},
   "outputs": [],
   "source": [
    "def make_target(df):\n",
    "    output = ['fraud' in val for val in df['acct_type']]\n",
    "    return output"
   ]
  },
  {
   "cell_type": "code",
   "execution_count": 5,
   "metadata": {},
   "outputs": [],
   "source": [
    "y = make_target(df) "
   ]
  },
  {
   "cell_type": "markdown",
   "metadata": {},
   "source": [
    "**NLP : description**"
   ]
  },
  {
   "cell_type": "markdown",
   "metadata": {},
   "source": [
    "We have a lot of useless html information here. We will parse those out in order to have a cleaner description."
   ]
  },
  {
   "cell_type": "code",
   "execution_count": 6,
   "metadata": {},
   "outputs": [
    {
     "data": {
      "text/plain": [
       "'<p><a href=\"http://s432.photobucket.com/albums/qq49/digusonline/?action=view&amp;current=supersunday.jpg\" target=\"_blank\"><img src=\"http://i432.photobucket.com/albums/qq49/digusonline/supersunday.jpg\" border=\"0\" alt=\"Photobucket\" /></a></p>\\r\\n<p>\\xa0</p>\\r\\n<p style=\"text-align: center;\"><font size=\"3\"><strong>Party Starz Entertaintment &amp; Diverse International Group Presents...<br /></strong></font><br /><font face=\"tahoma,arial,helvetica,sans-serif\" size=\"4\"><strong>The Official\\xa0\"99 Hour No Sleep'"
      ]
     },
     "execution_count": 6,
     "metadata": {},
     "output_type": "execute_result"
    }
   ],
   "source": [
    "df.description[0][0:500]"
   ]
  },
  {
   "cell_type": "markdown",
   "metadata": {},
   "source": [
    "Following code:\n",
    "\n",
    "- creates an empty list.\n",
    "- soups each description with html.parser\n",
    "- appends parced descriptions to the list called parced\n",
    "- loads the new parced descriptions to df.descrption"
   ]
  },
  {
   "cell_type": "code",
   "execution_count": 7,
   "metadata": {},
   "outputs": [],
   "source": [
    "parsed = []\n",
    "for html in df.description.values:\n",
    "    soup = BeautifulSoup(html, 'html.parser')\n",
    "    parsed.append(soup.text)\n",
    "#overwrite html with clean text\n",
    "df['description'] = parsed"
   ]
  },
  {
   "cell_type": "markdown",
   "metadata": {},
   "source": [
    "You may see a description example without html at following. It worked."
   ]
  },
  {
   "cell_type": "code",
   "execution_count": 8,
   "metadata": {},
   "outputs": [
    {
     "data": {
      "text/plain": [
       "'\\n\\xa0\\nParty Starz Entertaintment & Diverse International Group Presents...The Official\\xa0\"99 Hour No Sleep\" Super Bowl \\nWeekend Grand Finale\\nNo matter who wins or loses, this post-game party cannot be missed! Enjoy the drink specials and all night music!\\xa0The ultimate \"99 No Sleep\"\\xa0Super Bowl Weekend Grand Finale! Sunday, February 7th, 2010 @ Ink Nightclub-South Beach (717 Washington Ave, Miami Bch, FL 33139).\\nHosted by 99 Jamz with special appearances by Fast Life Youngstaz. Special invited guests: B'"
      ]
     },
     "execution_count": 8,
     "metadata": {},
     "output_type": "execute_result"
    }
   ],
   "source": [
    "df.description[0][0:500]"
   ]
  },
  {
   "cell_type": "markdown",
   "metadata": {},
   "source": [
    "**This one goes for Dummy features**"
   ]
  },
  {
   "cell_type": "code",
   "execution_count": 9,
   "metadata": {},
   "outputs": [],
   "source": [
    "def dummy(df, col):\n",
    "    ''' Function does not update df inplace \n",
    "    input:\n",
    "    df (dataframe)\n",
    "    col (string)\n",
    "    '''\n",
    "    dummies = pd.get_dummies(df[col], prefix=col)\n",
    "    return df.drop(col, axis=1).merge(dummies, left_index=True, right_index=True)"
   ]
  },
  {
   "cell_type": "markdown",
   "metadata": {},
   "source": [
    "**Get the Right Features**"
   ]
  },
  {
   "cell_type": "markdown",
   "metadata": {},
   "source": [
    "Seting the features that I will involve in my analisis in a list."
   ]
  },
  {
   "cell_type": "code",
   "execution_count": 10,
   "metadata": {},
   "outputs": [],
   "source": [
    "features = ['user_age', 'country', \n",
    "                  'ticket_types', 'venue_address', 'channels', \n",
    "                  'has_logo', 'delivery_method']"
   ]
  },
  {
   "cell_type": "markdown",
   "metadata": {},
   "source": [
    "Get the dataframe, features you want to involve and features you want to dummy.\n",
    "\n",
    "Return the output dataframe only with those features and the ones that dummied."
   ]
  },
  {
   "cell_type": "code",
   "execution_count": 11,
   "metadata": {},
   "outputs": [],
   "source": [
    "def extract_features(df, col_wanted, col_dummies_needed):\n",
    "    #df = pd.read_json(path)\n",
    "    output_df = df[col_wanted]\n",
    "    for col in col_dummies_needed:\n",
    "        output_df = dummy(output_df, col)\n",
    "    return output_df"
   ]
  },
  {
   "cell_type": "code",
   "execution_count": 12,
   "metadata": {},
   "outputs": [],
   "source": [
    "df_test = extract_features(df, features, ['delivery_method', 'country'])"
   ]
  },
  {
   "cell_type": "code",
   "execution_count": 13,
   "metadata": {},
   "outputs": [
    {
     "data": {
      "text/plain": [
       "Index(['acct_type', 'approx_payout_date', 'body_length', 'channels', 'country',\n",
       "       'currency', 'delivery_method', 'description', 'email_domain',\n",
       "       'event_created', 'event_end', 'event_published', 'event_start',\n",
       "       'fb_published', 'gts', 'has_analytics', 'has_header', 'has_logo',\n",
       "       'listed', 'name', 'name_length', 'num_order', 'num_payouts',\n",
       "       'object_id', 'org_desc', 'org_facebook', 'org_name', 'org_twitter',\n",
       "       'payee_name', 'payout_type', 'previous_payouts', 'sale_duration',\n",
       "       'sale_duration2', 'show_map', 'ticket_types', 'user_age',\n",
       "       'user_created', 'user_type', 'venue_address', 'venue_country',\n",
       "       'venue_latitude', 'venue_longitude', 'venue_name', 'venue_state'],\n",
       "      dtype='object')"
      ]
     },
     "execution_count": 13,
     "metadata": {},
     "output_type": "execute_result"
    }
   ],
   "source": [
    "df.columns"
   ]
  },
  {
   "cell_type": "code",
   "execution_count": 14,
   "metadata": {},
   "outputs": [
    {
     "data": {
      "text/plain": [
       "Index(['user_age', 'ticket_types', 'venue_address', 'channels', 'has_logo',\n",
       "       'delivery_method_0.0', 'delivery_method_1.0', 'delivery_method_3.0',\n",
       "       'country_', 'country_A1', 'country_AE', 'country_AR', 'country_AT',\n",
       "       'country_AU', 'country_BB', 'country_BE', 'country_BG', 'country_BS',\n",
       "       'country_CA', 'country_CH', 'country_CI', 'country_CM', 'country_CN',\n",
       "       'country_CO', 'country_CR', 'country_CZ', 'country_DE', 'country_DK',\n",
       "       'country_DZ', 'country_EC', 'country_ES', 'country_FI', 'country_FR',\n",
       "       'country_GB', 'country_GH', 'country_GR', 'country_HR', 'country_HU',\n",
       "       'country_ID', 'country_IE', 'country_IL', 'country_IM', 'country_IN',\n",
       "       'country_IS', 'country_IT', 'country_JE', 'country_JM', 'country_KE',\n",
       "       'country_KH', 'country_LB', 'country_MA', 'country_MX', 'country_MY',\n",
       "       'country_NA', 'country_NG', 'country_NI', 'country_NL', 'country_NZ',\n",
       "       'country_PE', 'country_PH', 'country_PK', 'country_PR', 'country_PS',\n",
       "       'country_PT', 'country_QA', 'country_RO', 'country_RS', 'country_RU',\n",
       "       'country_SE', 'country_SG', 'country_SI', 'country_TH', 'country_TJ',\n",
       "       'country_TR', 'country_US', 'country_UY', 'country_VE', 'country_VI',\n",
       "       'country_VN', 'country_ZA'],\n",
       "      dtype='object')"
      ]
     },
     "execution_count": 14,
     "metadata": {},
     "output_type": "execute_result"
    }
   ],
   "source": [
    "df_test.columns"
   ]
  },
  {
   "cell_type": "markdown",
   "metadata": {},
   "source": [
    "Can number of ticket types provided per event be a fine predictor? We will find it out.\n",
    "\n",
    "- Gets the # of ticket types provided per event and appends tgem in a list.\n",
    "- Drops ticket type column\n",
    "- Adds a new column called ticket_type_lenght\n",
    "- returns new df\n"
   ]
  },
  {
   "cell_type": "code",
   "execution_count": 15,
   "metadata": {},
   "outputs": [],
   "source": [
    "def extract_ticket_tiers(df):\n",
    "    '''\n",
    "    output df will drop ticket_types col\n",
    "    '''\n",
    "    ticket_types_length = []\n",
    "    for ticket_type in df['ticket_types'].values:\n",
    "        ticket_types_length.append(len(ticket_type))\n",
    "    output_df = df.drop('ticket_types', axis=1)\n",
    "    output_df['ticket_type_length'] = ticket_types_length\n",
    "    return output_df"
   ]
  },
  {
   "cell_type": "code",
   "execution_count": 16,
   "metadata": {},
   "outputs": [],
   "source": [
    "df_test = extract_ticket_tiers(df_test)"
   ]
  },
  {
   "cell_type": "code",
   "execution_count": 17,
   "metadata": {},
   "outputs": [
    {
     "data": {
      "text/plain": [
       "0    3\n",
       "1    2\n",
       "2    1\n",
       "3    6\n",
       "4    8\n",
       "Name: ticket_type_length, dtype: int64"
      ]
     },
     "execution_count": 17,
     "metadata": {},
     "output_type": "execute_result"
    }
   ],
   "source": [
    "df_test.ticket_type_length[0:5]"
   ]
  },
  {
   "cell_type": "markdown",
   "metadata": {},
   "source": [
    "Maybe fake events doesn't have an adress! Can it be true?\n",
    "\n",
    "- set a mask, if the venue address is empty string it is True, else it is False\n",
    "- create a new feature called no_address and values are equavalent to that of mask\n",
    "- map: if True return 0 if False return 1 (you see the little rebel in me now don't you)\n",
    "- we don't need vanue address anymore so get rid of it eh?"
   ]
  },
  {
   "cell_type": "code",
   "execution_count": 18,
   "metadata": {},
   "outputs": [],
   "source": [
    "def extract_venue_address_given(df):\n",
    "    mask = df['venue_address'] == ''\n",
    "    df['no_address'] = mask\n",
    "    df['no_address'] =  df['no_address'].map({True:0, False:1})\n",
    "    X = df.drop('venue_address', axis=1)\n",
    "    return X"
   ]
  },
  {
   "cell_type": "code",
   "execution_count": 19,
   "metadata": {},
   "outputs": [],
   "source": [
    "X = extract_venue_address_given(df_test)"
   ]
  },
  {
   "cell_type": "code",
   "execution_count": 20,
   "metadata": {},
   "outputs": [
    {
     "data": {
      "text/plain": [
       "0    1\n",
       "1    0\n",
       "2    1\n",
       "3    0\n",
       "4    1\n",
       "Name: no_address, dtype: int64"
      ]
     },
     "execution_count": 20,
     "metadata": {},
     "output_type": "execute_result"
    }
   ],
   "source": [
    "X.no_address.head()"
   ]
  },
  {
   "cell_type": "markdown",
   "metadata": {},
   "source": [
    "### Arange the features"
   ]
  },
  {
   "cell_type": "code",
   "execution_count": 21,
   "metadata": {},
   "outputs": [
    {
     "name": "stdout",
     "output_type": "stream",
     "text": [
      "Index(['description', 'channels', 'country_', 'country_A1', 'country_AE',\n",
      "       'country_AR', 'country_AT', 'country_AU', 'country_BB', 'country_BE',\n",
      "       'country_BG', 'country_BS', 'country_CA', 'country_CH', 'country_CI',\n",
      "       'country_CM', 'country_CN', 'country_CO', 'country_CR', 'country_CZ',\n",
      "       'country_DE', 'country_DK', 'country_DZ', 'country_EC', 'country_ES',\n",
      "       'country_FI', 'country_FR', 'country_GB', 'country_GH', 'country_GR',\n",
      "       'country_HR', 'country_HU', 'country_ID', 'country_IE', 'country_IL',\n",
      "       'country_IM', 'country_IN', 'country_IS', 'country_IT', 'country_JE',\n",
      "       'country_JM', 'country_KE', 'country_KH', 'country_LB', 'country_MA',\n",
      "       'country_MX', 'country_MY', 'country_NA', 'country_NG', 'country_NI',\n",
      "       'country_NL', 'country_NZ', 'country_PE', 'country_PH', 'country_PK',\n",
      "       'country_PR', 'country_PS', 'country_PT', 'country_QA', 'country_RO',\n",
      "       'country_RS', 'country_RU', 'country_SE', 'country_SG', 'country_SI',\n",
      "       'country_TH', 'country_TJ', 'country_TR', 'country_US', 'country_UY',\n",
      "       'country_VE', 'country_VI', 'country_VN', 'country_ZA',\n",
      "       'delivery_method_0.0', 'delivery_method_1.0', 'delivery_method_3.0',\n",
      "       'has_logo', 'no_address', 'ticket_type_length', 'user_age'],\n",
      "      dtype='object')\n"
     ]
    }
   ],
   "source": [
    "#save column names\n",
    "cols = sorted(list(X.columns.values))\n",
    "\n",
    "#sort features\n",
    "#sort X\n",
    "new_df = pd.DataFrame()\n",
    "for col in sorted(X.columns):\n",
    "    new_df[col] = X[col]\n",
    "X = new_df\n",
    "cols.insert(0, 'description')\n",
    "\n",
    "X['description'] = parsed\n",
    "X = X[cols]\n",
    "\n",
    "print(X.columns)"
   ]
  },
  {
   "cell_type": "markdown",
   "metadata": {},
   "source": [
    "### Train Test Split"
   ]
  },
  {
   "cell_type": "code",
   "execution_count": 32,
   "metadata": {},
   "outputs": [],
   "source": [
    "XX = X.values"
   ]
  },
  {
   "cell_type": "code",
   "execution_count": 33,
   "metadata": {},
   "outputs": [],
   "source": [
    "X_train, X_test, y_train, y_test = train_test_split(XX, y, test_size=0.2, random_state=915)"
   ]
  },
  {
   "cell_type": "markdown",
   "metadata": {},
   "source": [
    "### Pipeline"
   ]
  },
  {
   "cell_type": "code",
   "execution_count": 22,
   "metadata": {},
   "outputs": [],
   "source": [
    "import pickle\n",
    "import class_opens_pickle\n",
    "from class_opens_pickle import Foo "
   ]
  },
  {
   "cell_type": "markdown",
   "metadata": {},
   "source": [
    "**NLP that description**"
   ]
  },
  {
   "cell_type": "code",
   "execution_count": 27,
   "metadata": {},
   "outputs": [],
   "source": [
    "snowball = SnowballStemmer('english')\n",
    "\n",
    "def tokenize(doc):\n",
    "    return [snowball.stem(word) for word in word_tokenize(doc.lower())]\n",
    "\n",
    "\n",
    "\n",
    "class NLP:\n",
    "    def __init__(self):\n",
    "        self.tfidf = TfidfVectorizer(stop_words='english', tokenizer=tokenize, max_features=1000)\n",
    "        \n",
    "    def fit(self, X, y):\n",
    "        self.X = X\n",
    "        self.y = y\n",
    "        self.tfidf.fit(X[:,0])\n",
    "        return self\n",
    "        \n",
    "    def transform(self, X):\n",
    "        text_data = self.tfidf.transform(X[:,0])\n",
    "        text_data = text_data.toarray()\n",
    "        return np.concatenate((X[:,1:], text_data), axis=1)"
   ]
  },
  {
   "cell_type": "markdown",
   "metadata": {},
   "source": [
    "**Opening the pipeline model**"
   ]
  },
  {
   "cell_type": "code",
   "execution_count": 34,
   "metadata": {},
   "outputs": [],
   "source": [
    "if __name__=='__main__':\n",
    "    class_opens_pickle.main() # Objects are being pickled with main_module as the top-level\n",
    "    with open('dumb_model.pkl', 'rb') as f:\n",
    "        final_pipeline = pickle.load(f)"
   ]
  },
  {
   "cell_type": "code",
   "execution_count": 35,
   "metadata": {},
   "outputs": [
    {
     "data": {
      "text/plain": [
       "Pipeline(memory=None,\n",
       "     steps=[('NLP', <__main__.NLP object at 0x1abb4ca5c0>), ('rf', RandomForestClassifier(bootstrap=True, class_weight=None, criterion='gini',\n",
       "            max_depth=None, max_features='auto', max_leaf_nodes=None,\n",
       "            min_impurity_decrease=0.0, min_impurity_split=None,\n",
       "            min_samples_leaf=1, min_samples_split=2,\n",
       "            min_weight_fraction_leaf=0.0, n_estimators=1000, n_jobs=1,\n",
       "            oob_score=False, random_state=None, verbose=0,\n",
       "            warm_start=False))])"
      ]
     },
     "execution_count": 35,
     "metadata": {},
     "output_type": "execute_result"
    }
   ],
   "source": [
    "final_pipeline"
   ]
  },
  {
   "cell_type": "markdown",
   "metadata": {},
   "source": [
    "**Get Probabilities and predictions.**"
   ]
  },
  {
   "cell_type": "code",
   "execution_count": 36,
   "metadata": {},
   "outputs": [],
   "source": [
    "probs = final_pipeline.predict_proba(X_test)"
   ]
  },
  {
   "cell_type": "code",
   "execution_count": 37,
   "metadata": {},
   "outputs": [],
   "source": [
    "y_prob = probs[:, 1]"
   ]
  },
  {
   "cell_type": "code",
   "execution_count": 38,
   "metadata": {},
   "outputs": [
    {
     "data": {
      "text/plain": [
       "array([0.038, 0.004, 0.035, ..., 0.633, 0.015, 0.025])"
      ]
     },
     "execution_count": 38,
     "metadata": {},
     "output_type": "execute_result"
    }
   ],
   "source": [
    "y_prob"
   ]
  },
  {
   "cell_type": "code",
   "execution_count": 39,
   "metadata": {},
   "outputs": [],
   "source": [
    "y_pred = final_pipeline.predict(X_test)"
   ]
  },
  {
   "cell_type": "code",
   "execution_count": 40,
   "metadata": {},
   "outputs": [
    {
     "data": {
      "text/plain": [
       "array([False, False, False, ...,  True, False, False])"
      ]
     },
     "execution_count": 40,
     "metadata": {},
     "output_type": "execute_result"
    }
   ],
   "source": [
    "y_pred"
   ]
  },
  {
   "cell_type": "markdown",
   "metadata": {},
   "source": [
    "**Model Performance: Classification Report**"
   ]
  },
  {
   "cell_type": "code",
   "execution_count": 41,
   "metadata": {},
   "outputs": [
    {
     "name": "stdout",
     "output_type": "stream",
     "text": [
      "              precision    recall  f1-score   support\n",
      "\n",
      "       False       0.95      0.99      0.97      2610\n",
      "        True       0.89      0.44      0.59       258\n",
      "\n",
      "   micro avg       0.94      0.94      0.94      2868\n",
      "   macro avg       0.92      0.72      0.78      2868\n",
      "weighted avg       0.94      0.94      0.94      2868\n",
      "\n",
      "\n",
      "Accuracy Score: 0.94\n"
     ]
    }
   ],
   "source": [
    "# Find accuracy of hold-out test\n",
    "print(classification_report(y_test, y_pred))\n",
    "print('\\nAccuracy Score: {:.2f}'.format(accuracy_score(y_test, y_pred)))"
   ]
  },
  {
   "cell_type": "markdown",
   "metadata": {},
   "source": [
    "Not bad! Yet think about ways to increase that recall score for positive predictions."
   ]
  },
  {
   "cell_type": "markdown",
   "metadata": {},
   "source": [
    "**Model Performance: ROC Curve & AUC**"
   ]
  },
  {
   "cell_type": "code",
   "execution_count": 42,
   "metadata": {},
   "outputs": [],
   "source": [
    "from sklearn.metrics import auc, roc_curve"
   ]
  },
  {
   "cell_type": "code",
   "execution_count": 43,
   "metadata": {},
   "outputs": [],
   "source": [
    "def plot_roc(fpr, tpr, auc_score):\n",
    "    plt.figure(figsize=(6, 6))\n",
    "    plt.title('ROC Curve')\n",
    "    plt.plot(fpr, tpr, 'b', label='ROC score = {:5.2f}'.format(auc_score))\n",
    "    plt.legend(loc='lower right')\n",
    "    plt.plot([0,1],[0,1],'r--')\n",
    "    plt.xlim([-0.01,1.01])\n",
    "    plt.ylim([-0.01,1.01])\n",
    "    plt.ylabel('True Positive Rate')\n",
    "    plt.xlabel('False Positive Rate')\n",
    "    return"
   ]
  },
  {
   "cell_type": "code",
   "execution_count": 44,
   "metadata": {},
   "outputs": [
    {
     "data": {
      "text/plain": [
       "array([0.038     , 0.004     , 0.035     , 0.023     , 0.015     ,\n",
       "       0.066     , 0.90525079, 0.11      , 0.032     , 0.092     ])"
      ]
     },
     "execution_count": 44,
     "metadata": {},
     "output_type": "execute_result"
    }
   ],
   "source": [
    "y_prob[:10]"
   ]
  },
  {
   "cell_type": "code",
   "execution_count": 45,
   "metadata": {},
   "outputs": [
    {
     "data": {
      "image/png": "[encoded data removed]",
      "text/plain": [
       "<Figure size 432x432 with 1 Axes>"
      ]
     },
     "metadata": {
      "needs_background": "light"
     },
     "output_type": "display_data"
    }
   ],
   "source": [
    "# Compute ROC and AUC\n",
    "fpr, tpr, thresholds = roc_curve(y_true= y_test, y_score=y_prob)\n",
    "auc_score = auc(fpr, tpr)\n",
    "roc_score = roc_auc_score(y_test,y_prob)\n",
    "\n",
    "plot_roc(fpr, tpr, roc_score)"
   ]
  },
  {
   "cell_type": "code",
   "execution_count": 46,
   "metadata": {},
   "outputs": [
    {
     "data": {
      "text/plain": [
       "0.9500155929787044"
      ]
     },
     "execution_count": 46,
     "metadata": {},
     "output_type": "execute_result"
    }
   ],
   "source": [
    "roc_score"
   ]
  },
  {
   "cell_type": "markdown",
   "metadata": {},
   "source": [
    "## Profit Curve\n",
    "\n",
    "Lets see how much money we will save.\n",
    "\n",
    "**Tresholds:** Used to compare probabilities with."
   ]
  },
  {
   "cell_type": "code",
   "execution_count": 49,
   "metadata": {},
   "outputs": [],
   "source": [
    "treshholds = np.linspace(0,1,100)"
   ]
  },
  {
   "cell_type": "markdown",
   "metadata": {},
   "source": [
    "### Cost Benefit Matrix\n",
    "\n",
    "Throwback to findings from step_2_EDA.\n",
    "\n",
    "- Total number of fraud events: 1293\n",
    "\n",
    "- Avg Cost of all fraud events: $ 461\n",
    "\n",
    "- Total number of fraud events that harm the company: 329 (2.2%)\n",
    "\n",
    "- Avg. Cost of fraud events that harm the company: $ 1815\n",
    "\n",
    "- Avg. Revenue per valid customer: $ 2885.\n",
    "\n",
    "**False Positive Reaction Assumptions:**\n",
    "- The company will lose 0.01 of all customer which bothered with FP actions\n",
    "- Reacting to positive predictions costs the company $ 10 each(sending emails, calling customers etc.)\n",
    "\n",
    "**Cost_Benefit Matrix Baseline:** Do not reach if model predicts negative for fraud. Anyways those events are real and there is nothing to fix!"
   ]
  },
  {
   "cell_type": "code",
   "execution_count": 52,
   "metadata": {},
   "outputs": [],
   "source": [
    "avg_cost_of_fraud = 461.7\n",
    "avg_revenue_per_valid_customer = 2823.75"
   ]
  },
  {
   "cell_type": "markdown",
   "metadata": {},
   "source": [
    "**Inputs**\n",
    "- tp = amount of money the model saves us by predicting fraud - cost of reacting to fraud event\n",
    "- fn = 0 because baseline for negative predictions is to do nothing.\n",
    "- fp = - cost of reacting to fraud event - lost revenue due to bothering customer * the ratio of customers that are bothered\n",
    "- tn = 0 because baseline for negative predictions is to do nothing.\n",
    "\n",
    "Hint: We build cost benefit matrices to measure the profitwise effect of machine learning to the business. In accordance to business plan and senario the company only wants to predict fraud in order to prevent unnecessary costs. Thats why I am  only measuring the financial value saved with positive predictions(positive == fraud).\n"
   ]
  },
  {
   "cell_type": "code",
   "execution_count": 53,
   "metadata": {},
   "outputs": [
    {
     "data": {
      "text/plain": [
       "array([[451.7   ,   0.    ],\n",
       "       [-38.2375,   0.    ]])"
      ]
     },
     "execution_count": 53,
     "metadata": {},
     "output_type": "execute_result"
    }
   ],
   "source": [
    "tp = avg_cost_of_fraud - 10\n",
    "fn = 0 \n",
    "fp = -10 - avg_revenue_per_valid_customer * 0.01 \n",
    "tn = 0\n",
    "\n",
    "\n",
    "cost_mat = np.array([[tp, fn], [fp, tn]])\n",
    "cost_mat"
   ]
  },
  {
   "cell_type": "markdown",
   "metadata": {},
   "source": [
    "Compare y_prob to each treshold within linnear space of 0 to 100 in order to find the profit maximizing treshold."
   ]
  },
  {
   "cell_type": "code",
   "execution_count": 54,
   "metadata": {},
   "outputs": [],
   "source": [
    "expected_total_profit = []\n",
    "for t in treshholds:\n",
    "    predictions = (y_prob > t).astype(int)\n",
    "    tn, fp, fn, tp = confusion_matrix(y_test, predictions).ravel()\n",
    "    conf_mat = np.array([[tp, fn], [fp, tn]])\n",
    "    expected_total_profit.append((conf_mat * cost_mat).sum())"
   ]
  },
  {
   "cell_type": "markdown",
   "metadata": {},
   "source": [
    "argsort --> sorts the values and returns the indeces. we get the final index because thats the highest!"
   ]
  },
  {
   "cell_type": "code",
   "execution_count": 55,
   "metadata": {},
   "outputs": [],
   "source": [
    "maximum_expected_profit_index = np.argsort(np.array(expected_total_profit))[-1]"
   ]
  },
  {
   "cell_type": "code",
   "execution_count": 58,
   "metadata": {},
   "outputs": [
    {
     "data": {
      "text/plain": [
       "10"
      ]
     },
     "execution_count": 58,
     "metadata": {},
     "output_type": "execute_result"
    }
   ],
   "source": [
    "maximum_expected_profit_index"
   ]
  },
  {
   "cell_type": "markdown",
   "metadata": {},
   "source": [
    "Remember we have a list of expected total profits."
   ]
  },
  {
   "cell_type": "code",
   "execution_count": 63,
   "metadata": {},
   "outputs": [
    {
     "data": {
      "text/plain": [
       "[6.782980299860528,\n",
       " 12.371774755927476,\n",
       " 18.560529986052998,\n",
       " 23.058555613668062,\n",
       " 26.212495641562064,\n",
       " 28.15816771269177,\n",
       " 29.829711471408647,\n",
       " 30.73046548117155,\n",
       " 31.59122210599721,\n",
       " 32.13449267782427,\n",
       " 32.48612273361227,\n",
       " 32.165276324965134,\n",
       " 31.422777196652717,\n",
       " 31.587752789400273,\n",
       " 31.528569560669457]"
      ]
     },
     "execution_count": 63,
     "metadata": {},
     "output_type": "execute_result"
    }
   ],
   "source": [
    "expected_total_profit[0:15] #actual lenght is 100."
   ]
  },
  {
   "cell_type": "markdown",
   "metadata": {},
   "source": [
    "Yet only one of them is the maximized profit, which corresponds to index number 10 due to argsort."
   ]
  },
  {
   "cell_type": "code",
   "execution_count": 64,
   "metadata": {},
   "outputs": [
    {
     "data": {
      "text/plain": [
       "32.48612273361227"
      ]
     },
     "execution_count": 64,
     "metadata": {},
     "output_type": "execute_result"
    }
   ],
   "source": [
    "expected_total_profit[maximum_expected_profit_index]"
   ]
  },
  {
   "cell_type": "markdown",
   "metadata": {},
   "source": [
    "The Profit Curve whih plots expected profit for each treshold and highligting profit maximizing treshold."
   ]
  },
  {
   "cell_type": "code",
   "execution_count": 65,
   "metadata": {},
   "outputs": [
    {
     "name": "stdout",
     "output_type": "stream",
     "text": [
      "Threshold that gives the highest expected profit:0.10101010101010102\n"
     ]
    },
    {
     "data": {
      "image/png": "[encoded data removed]",
      "text/plain": [
       "<Figure size 432x432 with 1 Axes>"
      ]
     },
     "metadata": {
      "needs_background": "light"
     },
     "output_type": "display_data"
    }
   ],
   "source": [
    "plt.figure(figsize=(6,6))\n",
    "plt.plot(treshholds, expected_total_profit, label='XGBoost Classifier')\n",
    "plt.xlabel('Thresholds')\n",
    "plt.ylabel('Expected Profit Per Event')\n",
    "plt.axvline(treshholds[maximum_expected_profit_index])\n",
    "print(f'Threshold that gives the highest expected profit:{treshholds[maximum_expected_profit_index]}')"
   ]
  },
  {
   "cell_type": "markdown",
   "metadata": {},
   "source": [
    "**Conclusion:** The Model saves $ 32.48 per event. "
   ]
  }
 ],
 "metadata": {
  "kernelspec": {
   "display_name": "Python 3",
   "language": "python",
   "name": "python3"
  },
  "language_info": {
   "codemirror_mode": {
    "name": "ipython",
    "version": 3
   },
   "file_extension": ".py",
   "mimetype": "text/x-python",
   "name": "python",
   "nbconvert_exporter": "python",
   "pygments_lexer": "ipython3",
   "version": "3.6.3"
  }
 },
 "nbformat": 4,
 "nbformat_minor": 2
}
