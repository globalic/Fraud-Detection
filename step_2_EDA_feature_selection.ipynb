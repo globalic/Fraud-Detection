{
 "cells": [
  {
   "cell_type": "markdown",
   "metadata": {},
   "source": [
    "## EDA"
   ]
  },
  {
   "cell_type": "code",
   "execution_count": 1,
   "metadata": {},
   "outputs": [],
   "source": [
    "import pandas as pd\n",
    "import matplotlib.pyplot as plt\n",
    "import seaborn as sns\n",
    "\n",
    "df = pd.read_json('data/data.json')"
   ]
  },
  {
   "cell_type": "code",
   "execution_count": 2,
   "metadata": {},
   "outputs": [],
   "source": [
    "import warnings\n",
    "warnings.filterwarnings('ignore')"
   ]
  },
  {
   "cell_type": "markdown",
   "metadata": {},
   "source": [
    "Have a look at the column names."
   ]
  },
  {
   "cell_type": "code",
   "execution_count": 3,
   "metadata": {},
   "outputs": [
    {
     "name": "stdout",
     "output_type": "stream",
     "text": [
      "Index(['acct_type', 'approx_payout_date', 'body_length', 'channels', 'country',\n",
      "       'currency', 'delivery_method', 'description', 'email_domain',\n",
      "       'event_created', 'event_end', 'event_published', 'event_start',\n",
      "       'fb_published', 'gts', 'has_analytics', 'has_header', 'has_logo',\n",
      "       'listed', 'name', 'name_length', 'num_order', 'num_payouts',\n",
      "       'object_id', 'org_desc', 'org_facebook', 'org_name', 'org_twitter',\n",
      "       'payee_name', 'payout_type', 'previous_payouts', 'sale_duration',\n",
      "       'sale_duration2', 'show_map', 'ticket_types', 'user_age',\n",
      "       'user_created', 'user_type', 'venue_address', 'venue_country',\n",
      "       'venue_latitude', 'venue_longitude', 'venue_name', 'venue_state'],\n",
      "      dtype='object')\n",
      "The number of features are 44.\n"
     ]
    }
   ],
   "source": [
    "print(df.columns)\n",
    "print(f\"The number of features are {len(df.columns)}.\")"
   ]
  },
  {
   "cell_type": "markdown",
   "metadata": {},
   "source": [
    "**Target**\n",
    "\n",
    "We don't have a target yet. We should build one.\n",
    "\n",
    "What should be our target? Well we try to predict fraud events so our company will not lose money(or will lose less money). Account type may provide us relevant information eh? Lets have a look.\n",
    "\n"
   ]
  },
  {
   "cell_type": "code",
   "execution_count": 4,
   "metadata": {},
   "outputs": [
    {
     "name": "stdout",
     "output_type": "stream",
     "text": [
      "premium             12373\n",
      "fraudster_event       851\n",
      "fraudster             437\n",
      "spammer_limited       218\n",
      "spammer_warn          144\n",
      "tos_warn               91\n",
      "spammer_noinvite       84\n",
      "tos_lock               77\n",
      "locked                 54\n",
      "fraudster_att           5\n",
      "spammer_web             2\n",
      "spammer                 1\n",
      "Name: acct_type, dtype: int64\n",
      "<class 'str'>\n"
     ]
    }
   ],
   "source": [
    "print(df.acct_type.value_counts())\n",
    "print(type(df.acct_type[0]))"
   ]
  },
  {
   "cell_type": "markdown",
   "metadata": {},
   "source": [
    "Seee?! We have a lot of spammers and fraudsters around. \n",
    "\n",
    "We can create the target now. If fraud can be found in the acct_type that event is a fraud.\n",
    "\n",
    "In addition, all of those spam events, I wonder if they would effect our analisis in a negative manner. I think I may create a sub category which is a dataset, without them."
   ]
  },
  {
   "cell_type": "code",
   "execution_count": 5,
   "metadata": {},
   "outputs": [],
   "source": [
    "df_no_spam = df.copy()\n",
    "df_no_spam['spamer'] = ['spam' in val for val in df.acct_type]\n",
    "df_no_spam['spamer'] = [1 if val==True else 0 for val in df_no_spam.spamer]\n",
    "\n",
    "# Get names of indexes for which spammer is 1\n",
    "indexNames = df_no_spam[df_no_spam['spamer'] == 1 ].index\n",
    " \n",
    "# Delete these row indexes from dataFrame\n",
    "df_no_spam.drop(indexNames , inplace=True)\n",
    "df_no_spam = df_no_spam.drop(['spamer'],axis = 1)"
   ]
  },
  {
   "cell_type": "code",
   "execution_count": 6,
   "metadata": {},
   "outputs": [
    {
     "name": "stdout",
     "output_type": "stream",
     "text": [
      "(14337, 44)\n",
      "(13888, 44)\n"
     ]
    }
   ],
   "source": [
    "print(df.shape)\n",
    "print(df_no_spam.shape)"
   ]
  },
  {
   "cell_type": "code",
   "execution_count": 7,
   "metadata": {},
   "outputs": [
    {
     "data": {
      "text/plain": [
       "premium            12373\n",
       "fraudster_event      851\n",
       "fraudster            437\n",
       "tos_warn              91\n",
       "tos_lock              77\n",
       "locked                54\n",
       "fraudster_att          5\n",
       "Name: acct_type, dtype: int64"
      ]
     },
     "execution_count": 7,
     "metadata": {},
     "output_type": "execute_result"
    }
   ],
   "source": [
    "df_no_spam.acct_type.value_counts()"
   ]
  },
  {
   "cell_type": "code",
   "execution_count": 8,
   "metadata": {},
   "outputs": [],
   "source": [
    "df['target'] = ['fraud' in val for val in df.acct_type]\n",
    "df['target'] = [1 if val==True else 0 for val in df.target]\n",
    "\n",
    "df_no_spam['target'] = ['fraud' in val for val in df_no_spam.acct_type]\n",
    "df_no_spam['target'] = [1 if val==True else 0 for val in df_no_spam.target]"
   ]
  },
  {
   "cell_type": "code",
   "execution_count": 9,
   "metadata": {},
   "outputs": [],
   "source": [
    "df.to_csv('data/df__with_target')"
   ]
  },
  {
   "cell_type": "code",
   "execution_count": 40,
   "metadata": {},
   "outputs": [],
   "source": [
    "df_no_spam.to_csv('data/df_no_spam') #you may find analisis on this on another notebook."
   ]
  },
  {
   "cell_type": "code",
   "execution_count": 41,
   "metadata": {},
   "outputs": [
    {
     "data": {
      "text/plain": [
       "0    1\n",
       "1    0\n",
       "2    0\n",
       "3    0\n",
       "4    0\n",
       "Name: target, dtype: int64"
      ]
     },
     "execution_count": 41,
     "metadata": {},
     "output_type": "execute_result"
    }
   ],
   "source": [
    "df.target.head() "
   ]
  },
  {
   "cell_type": "markdown",
   "metadata": {},
   "source": [
    "Let me see if the dataset is balanced enough."
   ]
  },
  {
   "cell_type": "code",
   "execution_count": 44,
   "metadata": {},
   "outputs": [
    {
     "name": "stdout",
     "output_type": "stream",
     "text": [
      "0.09018623142916929\n"
     ]
    },
    {
     "data": {
      "image/png": "[encoded data removed]",
      "text/plain": [
       "<Figure size 432x288 with 1 Axes>"
      ]
     },
     "metadata": {
      "needs_background": "light"
     },
     "output_type": "display_data"
    }
   ],
   "source": [
    "counts = df['target'].value_counts()\n",
    "sns.barplot(counts.index, counts);\n",
    "print(df.target.sum() / len(df.target)) # this\n",
    "# print(sum(df.target) / df.shape[0])  or that"
   ]
  },
  {
   "cell_type": "markdown",
   "metadata": {},
   "source": [
    "9% to 91%, its not perfect. We will see if this creates an overfit issue once we create a model.\n",
    "\n",
    "Additionally, it may be benefitial to seperate the data from given conditions in order to find total cost to company. Thus when we build a model we can see how much money we are saving for the company.\n",
    "\n",
    "**approx_payout_date**"
   ]
  },
  {
   "cell_type": "code",
   "execution_count": 66,
   "metadata": {},
   "outputs": [
    {
     "data": {
      "text/plain": [
       "<matplotlib.axes._subplots.AxesSubplot at 0x1490578d0>"
      ]
     },
     "execution_count": 66,
     "metadata": {},
     "output_type": "execute_result"
    },
    {
     "data": {
      "image/png": "[encoded data removed]",
      "text/plain": [
       "<Figure size 432x288 with 1 Axes>"
      ]
     },
     "metadata": {
      "needs_background": "light"
     },
     "output_type": "display_data"
    }
   ],
   "source": [
    "df.plot(x='approx_payout_date', y='target', style='o')"
   ]
  },
  {
   "cell_type": "markdown",
   "metadata": {},
   "source": [
    "**body_length**"
   ]
  },
  {
   "cell_type": "code",
   "execution_count": 67,
   "metadata": {},
   "outputs": [
    {
     "data": {
      "text/plain": [
       "<matplotlib.axes._subplots.AxesSubplot at 0x14b184ba8>"
      ]
     },
     "execution_count": 67,
     "metadata": {},
     "output_type": "execute_result"
    },
    {
     "data": {
      "image/png": "[encoded data removed]",
      "text/plain": [
       "<Figure size 432x288 with 1 Axes>"
      ]
     },
     "metadata": {
      "needs_background": "light"
     },
     "output_type": "display_data"
    }
   ],
   "source": [
    "df.plot(x='body_length', y='target', style='o')"
   ]
  },
  {
   "cell_type": "code",
   "execution_count": 68,
   "metadata": {},
   "outputs": [
    {
     "name": "stdout",
     "output_type": "stream",
     "text": [
      "[ 5  0  8  6 11 12  4 10 13  9  7]\n",
      "8     3364\n",
      "0     2941\n",
      "5     2459\n",
      "11    2312\n",
      "6     1736\n",
      "4      556\n",
      "12     470\n",
      "10     237\n",
      "13     232\n",
      "9       20\n",
      "7       10\n",
      "Name: channels, dtype: int64\n"
     ]
    }
   ],
   "source": [
    "print(df.channels.unique())\n",
    "print(df.channels.value_counts()) #dummy these"
   ]
  },
  {
   "cell_type": "markdown",
   "metadata": {},
   "source": [
    "\n",
    "Looks like the company used numbers to define each channel type.\n",
    "\n",
    "Assumption: 8 is facebook...\n",
    "\n",
    "**country**"
   ]
  },
  {
   "cell_type": "code",
   "execution_count": 69,
   "metadata": {},
   "outputs": [
    {
     "data": {
      "text/plain": [
       "array(['US', 'IE', 'FR', 'CA', 'GB', '', 'AU', 'ES', 'NL', 'DE', 'VN',\n",
       "       'MY', 'NZ', 'PK', 'MA', 'AR', 'MX', 'CH', None, 'SG', 'TH', 'BE',\n",
       "       'PH', 'A1', 'CI', 'AT', 'ID', 'PS', 'PT', 'TR', 'NI', 'KE', 'IT',\n",
       "       'HU', 'RS', 'RO', 'NG', 'CZ', 'PR', 'AE', 'BS', 'KH', 'JM', 'IN',\n",
       "       'NA', 'FI', 'HR', 'BG', 'VI', 'TJ', 'GH', 'PE', 'QA', 'SI', 'GR',\n",
       "       'BB', 'CM', 'IS', 'SE', 'RU', 'DZ', 'VE', 'UY', 'ZA', 'IM', 'LB',\n",
       "       'CR', 'IL', 'CN', 'DK', 'CO', 'EC', 'JE'], dtype=object)"
      ]
     },
     "execution_count": 69,
     "metadata": {},
     "output_type": "execute_result"
    }
   ],
   "source": [
    "df.country.unique() #alright.. dummy these"
   ]
  },
  {
   "cell_type": "markdown",
   "metadata": {},
   "source": [
    "**currency**"
   ]
  },
  {
   "cell_type": "code",
   "execution_count": 70,
   "metadata": {},
   "outputs": [
    {
     "name": "stdout",
     "output_type": "stream",
     "text": [
      "['USD' 'EUR' 'CAD' 'GBP' 'AUD' 'NZD' 'MXN']\n",
      "USD    9696\n",
      "GBP    2222\n",
      "CAD    1322\n",
      "AUD     779\n",
      "EUR     262\n",
      "NZD      55\n",
      "MXN       1\n",
      "Name: currency, dtype: int64\n"
     ]
    }
   ],
   "source": [
    "print(df.currency.unique())\n",
    "print(df.currency.value_counts())\n",
    "\n",
    "#drop MXN and dummy the rest."
   ]
  },
  {
   "cell_type": "markdown",
   "metadata": {},
   "source": [
    "**delivery_method**"
   ]
  },
  {
   "cell_type": "code",
   "execution_count": 71,
   "metadata": {},
   "outputs": [
    {
     "name": "stdout",
     "output_type": "stream",
     "text": [
      "[ 0.  1.  3. nan]\n",
      "0.0    8520\n",
      "1.0    5554\n",
      "3.0     247\n",
      "Name: delivery_method, dtype: int64\n",
      "0.0011159935830368976\n"
     ]
    }
   ],
   "source": [
    "print(df.delivery_method.unique())\n",
    "print(df.delivery_method.value_counts())\n",
    "print(df.delivery_method.isnull().sum()/df.shape[0])\n",
    "#set nan values to 0 or get rid of them anyway their numbers are low"
   ]
  },
  {
   "cell_type": "markdown",
   "metadata": {},
   "source": [
    "**description**"
   ]
  },
  {
   "cell_type": "code",
   "execution_count": 72,
   "metadata": {},
   "outputs": [
    {
     "data": {
      "text/plain": [
       "'<p><a href=\"http://s432.photobucket.com/albums/qq49/digusonline/?action=view&amp;current=supersunday.jpg\" target=\"_blank\"><img src=\"http://i432.photobucket.com/albums/qq49/digusonline/supersunday.jpg\" border=\"0\" alt=\"Photobucket\" /></a></p>\\r\\n<p>\\xa0</p>\\r\\n<p style=\"text-align: center;\"><font size=\"3\"><strong>Party Starz Entertaintment &amp; Diverse International Group Presents...<br /></strong></font><br /><font face=\"tahoma,arial,helvetica,sans-serif\" size=\"4\"><strong>The Official\\xa0\"99 Hour No Sleep\" Super Bowl </strong></font></p>\\r\\n<p style=\"text-align: center;\"><font face=\"tahoma,arial,helvetica,sans-serif\" size=\"4\"><strong>Weekend </strong></font><font face=\"tahoma,arial,helvetica,sans-serif\" size=\"4\"><strong>Grand Finale</strong></font></p>\\r\\n<p><br /><span style=\"font-family: Times New Roman,serif;\"><font size=\"3\"><font face=\"tahoma,arial,helvetica,sans-serif\">No matter who wins or loses, this post-game party cannot be missed! Enjoy the drink specials and all night music!<strong>\\xa0</str'"
      ]
     },
     "execution_count": 72,
     "metadata": {},
     "output_type": "execute_result"
    }
   ],
   "source": [
    "df.description[0][0:1000]  ## killed it. This is our thing. We will run NLP on thi."
   ]
  },
  {
   "cell_type": "code",
   "execution_count": 73,
   "metadata": {},
   "outputs": [
    {
     "name": "stdout",
     "output_type": "stream",
     "text": [
      "0.0\n"
     ]
    }
   ],
   "source": [
    "# df.description[0:5]\n",
    "# Text for NLP: description, email domain (parsing? TLD? domain name?\n",
    "\n",
    "print(df.description.isnull().sum()/df.shape[0]) \n",
    "#let me see if the event is fraud or not when description is null(the ratio)"
   ]
  },
  {
   "cell_type": "markdown",
   "metadata": {},
   "source": [
    "**user_age**"
   ]
  },
  {
   "cell_type": "code",
   "execution_count": 74,
   "metadata": {},
   "outputs": [
    {
     "data": {
      "text/plain": [
       "<matplotlib.axes._subplots.AxesSubplot at 0x15a8c4080>"
      ]
     },
     "execution_count": 74,
     "metadata": {},
     "output_type": "execute_result"
    },
    {
     "data": {
      "image/png": "[encoded data removed]",
      "text/plain": [
       "<Figure size 432x288 with 1 Axes>"
      ]
     },
     "metadata": {
      "needs_background": "light"
     },
     "output_type": "display_data"
    }
   ],
   "source": [
    "df.plot(x='user_age', y='target', style='x')"
   ]
  },
  {
   "cell_type": "code",
   "execution_count": 75,
   "metadata": {},
   "outputs": [
    {
     "data": {
      "text/plain": [
       "<matplotlib.axes._subplots.AxesSubplot at 0x15b9ece10>"
      ]
     },
     "execution_count": 75,
     "metadata": {},
     "output_type": "execute_result"
    },
    {
     "data": {
      "image/png": "[encoded data removed]",
      "text/plain": [
       "<Figure size 432x288 with 1 Axes>"
      ]
     },
     "metadata": {
      "needs_background": "light"
     },
     "output_type": "display_data"
    }
   ],
   "source": [
    "df.user_age.value_counts().hist() #awkward..."
   ]
  },
  {
   "cell_type": "code",
   "execution_count": 76,
   "metadata": {},
   "outputs": [
    {
     "data": {
      "text/plain": [
       "3794"
      ]
     },
     "execution_count": 76,
     "metadata": {},
     "output_type": "execute_result"
    }
   ],
   "source": [
    "df.user_age.max() #now I see, these are number of hours since account is created or something similar."
   ]
  },
  {
   "cell_type": "code",
   "execution_count": 77,
   "metadata": {},
   "outputs": [
    {
     "data": {
      "text/plain": [
       "<matplotlib.axes._subplots.AxesSubplot at 0x15b036048>"
      ]
     },
     "execution_count": 77,
     "metadata": {},
     "output_type": "execute_result"
    },
    {
     "data": {
      "image/png": "[encoded data removed]",
      "text/plain": [
       "<Figure size 432x288 with 1 Axes>"
      ]
     },
     "metadata": {
      "needs_background": "light"
     },
     "output_type": "display_data"
    }
   ],
   "source": [
    "df.user_age.hist()"
   ]
  },
  {
   "cell_type": "markdown",
   "metadata": {},
   "source": [
    "\n",
    "Looks like user age is documented in terms of number of days or hours since register."
   ]
  },
  {
   "cell_type": "markdown",
   "metadata": {},
   "source": [
    "**venue_address**"
   ]
  },
  {
   "cell_type": "code",
   "execution_count": 78,
   "metadata": {},
   "outputs": [
    {
     "data": {
      "text/plain": [
       "0           717 Washington Avenue\n",
       "1                                \n",
       "2    10100 Pioneer Blvd Suite 100\n",
       "3                                \n",
       "4          One Marina Park Drive \n",
       "Name: venue_address, dtype: object"
      ]
     },
     "execution_count": 78,
     "metadata": {},
     "output_type": "execute_result"
    }
   ],
   "source": [
    "df.venue_address.head()"
   ]
  },
  {
   "cell_type": "markdown",
   "metadata": {},
   "source": [
    "**email_domain**"
   ]
  },
  {
   "cell_type": "code",
   "execution_count": 79,
   "metadata": {},
   "outputs": [
    {
     "data": {
      "text/plain": [
       "0                     gmail.com\n",
       "1                       ruf.org\n",
       "2                pvsd.k12.ca.us\n",
       "3          irishtabletennis.com\n",
       "4    artsandbusinesscouncil.org\n",
       "Name: email_domain, dtype: object"
      ]
     },
     "execution_count": 79,
     "metadata": {},
     "output_type": "execute_result"
    }
   ],
   "source": [
    "df.email_domain.head()"
   ]
  },
  {
   "cell_type": "markdown",
   "metadata": {},
   "source": [
    "lets see if any particular email_domain is popular among fraudster minds."
   ]
  },
  {
   "cell_type": "markdown",
   "metadata": {},
   "source": [
    "**ticket_type**"
   ]
  },
  {
   "cell_type": "code",
   "execution_count": 80,
   "metadata": {},
   "outputs": [
    {
     "data": {
      "text/plain": [
       "0    [{'event_id': 527017, 'cost': 25.0, 'availabil...\n",
       "1    [{'event_id': 786878, 'cost': 35.0, 'availabil...\n",
       "2    [{'event_id': 787337, 'cost': 93.51, 'availabi...\n",
       "3    [{'event_id': 885645, 'cost': 25.0, 'availabil...\n",
       "4    [{'event_id': 1114349, 'cost': 150.0, 'availab...\n",
       "Name: ticket_types, dtype: object"
      ]
     },
     "execution_count": 80,
     "metadata": {},
     "output_type": "execute_result"
    }
   ],
   "source": [
    "df.ticket_types.head()"
   ]
  },
  {
   "cell_type": "code",
   "execution_count": 81,
   "metadata": {},
   "outputs": [
    {
     "data": {
      "text/plain": [
       "[{'availability': 1,\n",
       "  'cost': 25.0,\n",
       "  'event_id': 527017,\n",
       "  'quantity_sold': 0,\n",
       "  'quantity_total': 800},\n",
       " {'availability': 1,\n",
       "  'cost': 50.0,\n",
       "  'event_id': 527017,\n",
       "  'quantity_sold': 0,\n",
       "  'quantity_total': 100},\n",
       " {'availability': 1,\n",
       "  'cost': 550.0,\n",
       "  'event_id': 527017,\n",
       "  'quantity_sold': 0,\n",
       "  'quantity_total': 20}]"
      ]
     },
     "execution_count": 81,
     "metadata": {},
     "output_type": "execute_result"
    }
   ],
   "source": [
    "df.ticket_types[0]"
   ]
  },
  {
   "cell_type": "code",
   "execution_count": 82,
   "metadata": {},
   "outputs": [
    {
     "data": {
      "text/plain": [
       "list"
      ]
     },
     "execution_count": 82,
     "metadata": {},
     "output_type": "execute_result"
    }
   ],
   "source": [
    "type(df.ticket_types[0]) #looks like a dict but its a string.\n",
    "#I will convert this to a complete dict so we grabbing information\n",
    "#will be easier."
   ]
  },
  {
   "cell_type": "markdown",
   "metadata": {},
   "source": [
    "Tickey type columns have extremely important information regarding our analysis.\n",
    "\n",
    "Essential for cost and revenue analysis!\n",
    "\n",
    "We will have new notebook about this.\n",
    "\n",
    "\n"
   ]
  },
  {
   "cell_type": "markdown",
   "metadata": {},
   "source": [
    "**has_logo**"
   ]
  },
  {
   "cell_type": "code",
   "execution_count": 83,
   "metadata": {},
   "outputs": [
    {
     "data": {
      "text/plain": [
       "<matplotlib.axes._subplots.AxesSubplot at 0x14c96ef98>"
      ]
     },
     "execution_count": 83,
     "metadata": {},
     "output_type": "execute_result"
    },
    {
     "data": {
      "image/png": "[encoded data removed]",
      "text/plain": [
       "<Figure size 432x288 with 1 Axes>"
      ]
     },
     "metadata": {
      "needs_background": "light"
     },
     "output_type": "display_data"
    }
   ],
   "source": [
    "df.has_logo.value_counts().hist() "
   ]
  },
  {
   "cell_type": "code",
   "execution_count": 88,
   "metadata": {},
   "outputs": [
    {
     "name": "stdout",
     "output_type": "stream",
     "text": [
      "0.842086908000279\n"
     ]
    },
    {
     "data": {
      "image/png": "[encoded data removed]",
      "text/plain": [
       "<Figure size 432x288 with 1 Axes>"
      ]
     },
     "metadata": {
      "needs_background": "light"
     },
     "output_type": "display_data"
    }
   ],
   "source": [
    "counts = df['has_logo'].value_counts()\n",
    "sns.barplot(counts.index, counts);\n",
    "print(df.has_logo.sum() / len(df.has_logo)) "
   ]
  },
  {
   "cell_type": "markdown",
   "metadata": {},
   "source": [
    "Okay, I will include the following features for further process based on intuation."
   ]
  },
  {
   "cell_type": "code",
   "execution_count": 91,
   "metadata": {},
   "outputs": [],
   "source": [
    "wanted = ['description', 'user_age', 'country', \n",
    "                  'ticket_types', 'venue_address', 'channels', \n",
    "                  'has_logo', 'delivery_method']"
   ]
  },
  {
   "cell_type": "markdown",
   "metadata": {},
   "source": [
    "## Profit Analisis"
   ]
  },
  {
   "cell_type": "markdown",
   "metadata": {},
   "source": [
    "Events that are fraud thereby makes the company lose money.\n",
    "\n",
    "reminder = you will need t use your finding here to build your cost_benefit matrix."
   ]
  },
  {
   "cell_type": "code",
   "execution_count": 92,
   "metadata": {},
   "outputs": [],
   "source": [
    "df_fraud = df[df['target'] == 1]"
   ]
  },
  {
   "cell_type": "code",
   "execution_count": 99,
   "metadata": {},
   "outputs": [
    {
     "data": {
      "text/plain": [
       "1293"
      ]
     },
     "execution_count": 99,
     "metadata": {},
     "output_type": "execute_result"
    }
   ],
   "source": [
    "df_fraud.shape[0]"
   ]
  },
  {
   "cell_type": "markdown",
   "metadata": {},
   "source": [
    "Non-Fraud events which may generate revenue or not depending on ticket sales."
   ]
  },
  {
   "cell_type": "code",
   "execution_count": 93,
   "metadata": {},
   "outputs": [],
   "source": [
    "df_valid = df[df['target'] == 0]"
   ]
  },
  {
   "cell_type": "code",
   "execution_count": 100,
   "metadata": {},
   "outputs": [
    {
     "data": {
      "text/plain": [
       "13044"
      ]
     },
     "execution_count": 100,
     "metadata": {},
     "output_type": "execute_result"
    }
   ],
   "source": [
    "df_valid.shape[0]"
   ]
  },
  {
   "cell_type": "code",
   "execution_count": 101,
   "metadata": {},
   "outputs": [
    {
     "data": {
      "text/html": [
       "<div>\n",
       "<style>\n",
       "    .dataframe thead tr:only-child th {\n",
       "        text-align: right;\n",
       "    }\n",
       "\n",
       "    .dataframe thead th {\n",
       "        text-align: left;\n",
       "    }\n",
       "\n",
       "    .dataframe tbody tr th {\n",
       "        vertical-align: top;\n",
       "    }\n",
       "</style>\n",
       "<table border=\"1\" class=\"dataframe\">\n",
       "  <thead>\n",
       "    <tr style=\"text-align: right;\">\n",
       "      <th></th>\n",
       "      <th>acct_type</th>\n",
       "      <th>approx_payout_date</th>\n",
       "      <th>body_length</th>\n",
       "      <th>channels</th>\n",
       "      <th>country</th>\n",
       "      <th>currency</th>\n",
       "      <th>delivery_method</th>\n",
       "      <th>description</th>\n",
       "      <th>email_domain</th>\n",
       "      <th>event_created</th>\n",
       "      <th>...</th>\n",
       "      <th>user_age</th>\n",
       "      <th>user_created</th>\n",
       "      <th>user_type</th>\n",
       "      <th>venue_address</th>\n",
       "      <th>venue_country</th>\n",
       "      <th>venue_latitude</th>\n",
       "      <th>venue_longitude</th>\n",
       "      <th>venue_name</th>\n",
       "      <th>venue_state</th>\n",
       "      <th>target</th>\n",
       "    </tr>\n",
       "  </thead>\n",
       "  <tbody>\n",
       "    <tr>\n",
       "      <th>1</th>\n",
       "      <td>premium</td>\n",
       "      <td>1296720000</td>\n",
       "      <td>3499</td>\n",
       "      <td>0</td>\n",
       "      <td>US</td>\n",
       "      <td>USD</td>\n",
       "      <td>1.0</td>\n",
       "      <td>&lt;p&gt;Join us for a quick, one-night, community-b...</td>\n",
       "      <td>ruf.org</td>\n",
       "      <td>1293832670</td>\n",
       "      <td>...</td>\n",
       "      <td>149</td>\n",
       "      <td>1280942776</td>\n",
       "      <td>3</td>\n",
       "      <td></td>\n",
       "      <td>US</td>\n",
       "      <td>32.776566</td>\n",
       "      <td>-79.930922</td>\n",
       "      <td>The Charleston, SC area</td>\n",
       "      <td>SC</td>\n",
       "      <td>0</td>\n",
       "    </tr>\n",
       "  </tbody>\n",
       "</table>\n",
       "<p>1 rows × 45 columns</p>\n",
       "</div>"
      ],
      "text/plain": [
       "  acct_type  approx_payout_date  body_length  channels country currency  \\\n",
       "1   premium          1296720000         3499         0      US      USD   \n",
       "\n",
       "   delivery_method                                        description  \\\n",
       "1              1.0  <p>Join us for a quick, one-night, community-b...   \n",
       "\n",
       "  email_domain  event_created  ...    user_age  user_created  user_type  \\\n",
       "1      ruf.org     1293832670  ...         149    1280942776          3   \n",
       "\n",
       "   venue_address  venue_country  venue_latitude  venue_longitude  \\\n",
       "1                            US       32.776566       -79.930922   \n",
       "\n",
       "                venue_name venue_state target  \n",
       "1  The Charleston, SC area          SC      0  \n",
       "\n",
       "[1 rows x 45 columns]"
      ]
     },
     "execution_count": 101,
     "metadata": {},
     "output_type": "execute_result"
    }
   ],
   "source": [
    "df_valid.head(1)"
   ]
  },
  {
   "cell_type": "code",
   "execution_count": 102,
   "metadata": {},
   "outputs": [
    {
     "data": {
      "text/html": [
       "<div>\n",
       "<style>\n",
       "    .dataframe thead tr:only-child th {\n",
       "        text-align: right;\n",
       "    }\n",
       "\n",
       "    .dataframe thead th {\n",
       "        text-align: left;\n",
       "    }\n",
       "\n",
       "    .dataframe tbody tr th {\n",
       "        vertical-align: top;\n",
       "    }\n",
       "</style>\n",
       "<table border=\"1\" class=\"dataframe\">\n",
       "  <thead>\n",
       "    <tr style=\"text-align: right;\">\n",
       "      <th></th>\n",
       "      <th>acct_type</th>\n",
       "      <th>approx_payout_date</th>\n",
       "      <th>body_length</th>\n",
       "      <th>channels</th>\n",
       "      <th>country</th>\n",
       "      <th>currency</th>\n",
       "      <th>delivery_method</th>\n",
       "      <th>description</th>\n",
       "      <th>email_domain</th>\n",
       "      <th>event_created</th>\n",
       "      <th>...</th>\n",
       "      <th>user_age</th>\n",
       "      <th>user_created</th>\n",
       "      <th>user_type</th>\n",
       "      <th>venue_address</th>\n",
       "      <th>venue_country</th>\n",
       "      <th>venue_latitude</th>\n",
       "      <th>venue_longitude</th>\n",
       "      <th>venue_name</th>\n",
       "      <th>venue_state</th>\n",
       "      <th>target</th>\n",
       "    </tr>\n",
       "  </thead>\n",
       "  <tbody>\n",
       "    <tr>\n",
       "      <th>0</th>\n",
       "      <td>fraudster_event</td>\n",
       "      <td>1266062400</td>\n",
       "      <td>3852</td>\n",
       "      <td>5</td>\n",
       "      <td>US</td>\n",
       "      <td>USD</td>\n",
       "      <td>0.0</td>\n",
       "      <td>&lt;p&gt;&lt;a href=\"http://s432.photobucket.com/albums...</td>\n",
       "      <td>gmail.com</td>\n",
       "      <td>1262739706</td>\n",
       "      <td>...</td>\n",
       "      <td>36</td>\n",
       "      <td>1259613950</td>\n",
       "      <td>1</td>\n",
       "      <td>717 Washington Avenue</td>\n",
       "      <td>US</td>\n",
       "      <td>25.777471</td>\n",
       "      <td>-80.133433</td>\n",
       "      <td>INK Nightclub - South Beach</td>\n",
       "      <td>FL</td>\n",
       "      <td>1</td>\n",
       "    </tr>\n",
       "  </tbody>\n",
       "</table>\n",
       "<p>1 rows × 45 columns</p>\n",
       "</div>"
      ],
      "text/plain": [
       "         acct_type  approx_payout_date  body_length  channels country  \\\n",
       "0  fraudster_event          1266062400         3852         5      US   \n",
       "\n",
       "  currency  delivery_method  \\\n",
       "0      USD              0.0   \n",
       "\n",
       "                                         description email_domain  \\\n",
       "0  <p><a href=\"http://s432.photobucket.com/albums...    gmail.com   \n",
       "\n",
       "   event_created  ...    user_age  user_created  user_type  \\\n",
       "0     1262739706  ...          36    1259613950          1   \n",
       "\n",
       "           venue_address  venue_country  venue_latitude  venue_longitude  \\\n",
       "0  717 Washington Avenue             US       25.777471       -80.133433   \n",
       "\n",
       "                    venue_name venue_state target  \n",
       "0  INK Nightclub - South Beach          FL      1  \n",
       "\n",
       "[1 rows x 45 columns]"
      ]
     },
     "execution_count": 102,
     "metadata": {},
     "output_type": "execute_result"
    }
   ],
   "source": [
    "df_fraud.head(1)"
   ]
  },
  {
   "cell_type": "markdown",
   "metadata": {},
   "source": [
    "### Cost "
   ]
  },
  {
   "cell_type": "code",
   "execution_count": 125,
   "metadata": {},
   "outputs": [
    {
     "data": {
      "text/plain": [
       "[{'availability': 1,\n",
       "  'cost': 25.0,\n",
       "  'event_id': 527017,\n",
       "  'quantity_sold': 0,\n",
       "  'quantity_total': 800},\n",
       " {'availability': 1,\n",
       "  'cost': 50.0,\n",
       "  'event_id': 527017,\n",
       "  'quantity_sold': 0,\n",
       "  'quantity_total': 100},\n",
       " {'availability': 1,\n",
       "  'cost': 550.0,\n",
       "  'event_id': 527017,\n",
       "  'quantity_sold': 0,\n",
       "  'quantity_total': 20}]"
      ]
     },
     "execution_count": 125,
     "metadata": {},
     "output_type": "execute_result"
    }
   ],
   "source": [
    "df.ticket_types[0] # just to remind you and myself."
   ]
  },
  {
   "cell_type": "code",
   "execution_count": 128,
   "metadata": {},
   "outputs": [],
   "source": [
    "def cost_of_fraud(ticket_info_list):\n",
    "    cost = 0\n",
    "    for ticket_dict in ticket_info_list:\n",
    "        cost += ticket_dict[\"cost\"] * ticket_dict[\"quantity_sold\"]\n",
    "    return cost\n",
    "\n",
    "df_fraud['cost_per_fraud'] = df['ticket_types'].map(cost_of_fraud)"
   ]
  },
  {
   "cell_type": "code",
   "execution_count": 140,
   "metadata": {},
   "outputs": [
    {
     "name": "stdout",
     "output_type": "stream",
     "text": [
      "Total cost of all fraud events so far: $597098.5\n"
     ]
    }
   ],
   "source": [
    "#it hurts.\n",
    "print(f'Total cost of all fraud events so far: ${round(df_fraud.cost_per_fraud.sum(),1)}')"
   ]
  },
  {
   "cell_type": "code",
   "execution_count": 138,
   "metadata": {},
   "outputs": [
    {
     "name": "stdout",
     "output_type": "stream",
     "text": [
      "Avg cost of a fraud event is $461.8\n"
     ]
    },
    {
     "data": {
      "image/png": "[encoded data removed]",
      "text/plain": [
       "<Figure size 432x288 with 1 Axes>"
      ]
     },
     "metadata": {
      "needs_background": "light"
     },
     "output_type": "display_data"
    }
   ],
   "source": [
    "df_fraud.cost_per_fraud.hist()\n",
    "avg_cost_per_fraud_all = df_fraud['cost_per_fraud'].mean()\n",
    "print(f'Avg cost of a fraud event is ${round(avg_cost_per_fraud_all,1)}')"
   ]
  },
  {
   "cell_type": "markdown",
   "metadata": {},
   "source": [
    "Now I am interested in fraud events that actually harm the company.\n",
    "\n",
    "Harm in which manner? Well not all fraud events end up with fake ticket sales."
   ]
  },
  {
   "cell_type": "code",
   "execution_count": 141,
   "metadata": {},
   "outputs": [],
   "source": [
    "df_frauds_that_matter = df_fraud[df_fraud['cost_per_fraud'] > 0]"
   ]
  },
  {
   "cell_type": "code",
   "execution_count": 142,
   "metadata": {},
   "outputs": [
    {
     "data": {
      "text/html": [
       "<div>\n",
       "<style>\n",
       "    .dataframe thead tr:only-child th {\n",
       "        text-align: right;\n",
       "    }\n",
       "\n",
       "    .dataframe thead th {\n",
       "        text-align: left;\n",
       "    }\n",
       "\n",
       "    .dataframe tbody tr th {\n",
       "        vertical-align: top;\n",
       "    }\n",
       "</style>\n",
       "<table border=\"1\" class=\"dataframe\">\n",
       "  <thead>\n",
       "    <tr style=\"text-align: right;\">\n",
       "      <th></th>\n",
       "      <th>acct_type</th>\n",
       "      <th>approx_payout_date</th>\n",
       "      <th>body_length</th>\n",
       "      <th>channels</th>\n",
       "      <th>country</th>\n",
       "      <th>currency</th>\n",
       "      <th>delivery_method</th>\n",
       "      <th>description</th>\n",
       "      <th>email_domain</th>\n",
       "      <th>event_created</th>\n",
       "      <th>...</th>\n",
       "      <th>user_created</th>\n",
       "      <th>user_type</th>\n",
       "      <th>venue_address</th>\n",
       "      <th>venue_country</th>\n",
       "      <th>venue_latitude</th>\n",
       "      <th>venue_longitude</th>\n",
       "      <th>venue_name</th>\n",
       "      <th>venue_state</th>\n",
       "      <th>target</th>\n",
       "      <th>cost_per_fraud</th>\n",
       "    </tr>\n",
       "  </thead>\n",
       "  <tbody>\n",
       "    <tr>\n",
       "      <th>26</th>\n",
       "      <td>fraudster</td>\n",
       "      <td>1299607200</td>\n",
       "      <td>870</td>\n",
       "      <td>11</td>\n",
       "      <td>US</td>\n",
       "      <td>USD</td>\n",
       "      <td>0.0</td>\n",
       "      <td>&lt;h1 class=\"post\"&gt;Welcome&lt;/h1&gt;\\r\\n&lt;p&gt; &lt;/p&gt;\\r\\n&lt;...</td>\n",
       "      <td>hotmail.com</td>\n",
       "      <td>1299171416</td>\n",
       "      <td>...</td>\n",
       "      <td>1295576777</td>\n",
       "      <td>3</td>\n",
       "      <td>400 Fifth Avenue</td>\n",
       "      <td>US</td>\n",
       "      <td>40.750228</td>\n",
       "      <td>-73.983714</td>\n",
       "      <td>The Setai</td>\n",
       "      <td>NY</td>\n",
       "      <td>1</td>\n",
       "      <td>600.0</td>\n",
       "    </tr>\n",
       "    <tr>\n",
       "      <th>51</th>\n",
       "      <td>fraudster_event</td>\n",
       "      <td>1329465600</td>\n",
       "      <td>536</td>\n",
       "      <td>6</td>\n",
       "      <td>US</td>\n",
       "      <td>USD</td>\n",
       "      <td>0.0</td>\n",
       "      <td>&lt;p&gt;&lt;span style=\"font-size: x-large;\"&gt;Okay ever...</td>\n",
       "      <td>cox.net</td>\n",
       "      <td>1317544696</td>\n",
       "      <td>...</td>\n",
       "      <td>1310957994</td>\n",
       "      <td>1</td>\n",
       "      <td>404 euclid ave</td>\n",
       "      <td>US</td>\n",
       "      <td>32.702072</td>\n",
       "      <td>-117.085088</td>\n",
       "      <td>The Jacobs Center at Market Creek</td>\n",
       "      <td>CA</td>\n",
       "      <td>1</td>\n",
       "      <td>316.0</td>\n",
       "    </tr>\n",
       "  </tbody>\n",
       "</table>\n",
       "<p>2 rows × 46 columns</p>\n",
       "</div>"
      ],
      "text/plain": [
       "          acct_type  approx_payout_date  body_length  channels country  \\\n",
       "26        fraudster          1299607200          870        11      US   \n",
       "51  fraudster_event          1329465600          536         6      US   \n",
       "\n",
       "   currency  delivery_method  \\\n",
       "26      USD              0.0   \n",
       "51      USD              0.0   \n",
       "\n",
       "                                          description email_domain  \\\n",
       "26  <h1 class=\"post\">Welcome</h1>\\r\\n<p> </p>\\r\\n<...  hotmail.com   \n",
       "51  <p><span style=\"font-size: x-large;\">Okay ever...      cox.net   \n",
       "\n",
       "    event_created      ...        user_created  user_type     venue_address  \\\n",
       "26     1299171416      ...          1295576777          3  400 Fifth Avenue   \n",
       "51     1317544696      ...          1310957994          1    404 euclid ave   \n",
       "\n",
       "    venue_country  venue_latitude  venue_longitude  \\\n",
       "26             US       40.750228       -73.983714   \n",
       "51             US       32.702072      -117.085088   \n",
       "\n",
       "                           venue_name  venue_state target cost_per_fraud  \n",
       "26                          The Setai           NY      1          600.0  \n",
       "51  The Jacobs Center at Market Creek           CA      1          316.0  \n",
       "\n",
       "[2 rows x 46 columns]"
      ]
     },
     "execution_count": 142,
     "metadata": {},
     "output_type": "execute_result"
    }
   ],
   "source": [
    "df_frauds_that_matter.head(2)"
   ]
  },
  {
   "cell_type": "code",
   "execution_count": 148,
   "metadata": {},
   "outputs": [
    {
     "data": {
      "text/plain": [
       "0.022947618051196206"
      ]
     },
     "execution_count": 148,
     "metadata": {},
     "output_type": "execute_result"
    }
   ],
   "source": [
    "df_frauds_that_matter.shape[0] / df.shape[0]"
   ]
  },
  {
   "cell_type": "markdown",
   "metadata": {},
   "source": [
    "Interesting, historically only 2.2% of all events hurt the company by achieving ticket sales yet that the same 2.2% corresponds to almost $ 600k "
   ]
  },
  {
   "cell_type": "code",
   "execution_count": 150,
   "metadata": {},
   "outputs": [
    {
     "name": "stdout",
     "output_type": "stream",
     "text": [
      "Avg cost of fraud events that matter $461.8\n"
     ]
    },
    {
     "data": {
      "image/png": "[encoded data removed]",
      "text/plain": [
       "<Figure size 432x288 with 1 Axes>"
      ]
     },
     "metadata": {
      "needs_background": "light"
     },
     "output_type": "display_data"
    }
   ],
   "source": [
    "df_frauds_that_matter.cost_per_fraud.hist(bins = df_frauds_that_matter.shape[1])\n",
    "avg_cost_per_fraud = df_frauds_that_matter['cost_per_fraud'].mean()\n",
    "print(f'Avg cost of fraud events that matter ${round(avg_cost_per_fraud_all,1)}')"
   ]
  },
  {
   "cell_type": "markdown",
   "metadata": {},
   "source": [
    "### Revenue"
   ]
  },
  {
   "cell_type": "code",
   "execution_count": 152,
   "metadata": {},
   "outputs": [],
   "source": [
    "def revenue_of_valid(ticket_info_list):\n",
    "    revenue = 0\n",
    "    for ticket_dict in ticket_info_list:\n",
    "        revenue += ticket_dict[\"cost\"] * ticket_dict[\"quantity_sold\"]\n",
    "    return revenue\n",
    "\n",
    "df_valid['revenue_of_valid'] = df['ticket_types'].map(revenue_of_valid)"
   ]
  },
  {
   "cell_type": "code",
   "execution_count": 153,
   "metadata": {},
   "outputs": [
    {
     "data": {
      "text/plain": [
       "2824.765238423801"
      ]
     },
     "execution_count": 153,
     "metadata": {},
     "output_type": "execute_result"
    }
   ],
   "source": [
    "avg_revenue_per_transaction = df_valid['revenue_of_valid'].sum() / df_valid.shape[0]\n",
    "avg_revenue_per_transaction"
   ]
  },
  {
   "cell_type": "code",
   "execution_count": 176,
   "metadata": {},
   "outputs": [
    {
     "name": "stdout",
     "output_type": "stream",
     "text": [
      "Avg revenue fromm valid events: $2824.8\n"
     ]
    },
    {
     "data": {
      "image/png": "[encoded data removed]",
      "text/plain": [
       "<Figure size 432x288 with 1 Axes>"
      ]
     },
     "metadata": {
      "needs_background": "light"
     },
     "output_type": "display_data"
    }
   ],
   "source": [
    "df_valid.revenue_of_valid.hist()\n",
    "avg_revenue_per_valid_all = df_valid['revenue_of_valid'].mean()\n",
    "print(f'Avg revenue fromm valid events: ${round(avg_revenue_per_valid_all,1)}')\n",
    "\n",
    "#this graph just tells me that revenue generation is more balanced compared to cost of fraud,"
   ]
  },
  {
   "cell_type": "markdown",
   "metadata": {},
   "source": [
    "I want to see distributions of different groups of revenue generation.\n",
    "Dig in!"
   ]
  },
  {
   "cell_type": "code",
   "execution_count": 217,
   "metadata": {},
   "outputs": [],
   "source": [
    "# df_valid['revenue_of_valid'].sort\n",
    "# df_sorted = df.sort(['revenue_of_valid'], ascending=[1, 0])\n",
    "df_valid_sorted = df_valid.sort_values(by='revenue_of_valid', ascending=0)['revenue_of_valid']\n",
    "df_valid_sorted\n",
    "\n",
    "df_100kplus = df_valid[df_valid['revenue_of_valid'] > 100000]\n",
    "df_50kplus = df_valid[(df_valid['revenue_of_valid'] > 50000) & (df_valid['revenue_of_valid'] < 100000)]\n",
    "df_20kplus = df_valid[(df_valid['revenue_of_valid'] > 20000) & (df_valid['revenue_of_valid'] < 50000)]\n",
    "df_5kplus = df_valid[(df_valid['revenue_of_valid'] > 5000) & (df_valid['revenue_of_valid'] < 20000)]\n",
    "df_1kplus = df_valid[(df_valid['revenue_of_valid'] > 1000) & (df_valid['revenue_of_valid'] < 5000)]\n",
    "df_0plus = df_valid[(df_valid['revenue_of_valid'] > 0) & (df_valid['revenue_of_valid'] < 1000)]\n",
    "\n",
    "df_no_800 = df_valid[(df_valid['revenue_of_valid'] >= 0) & (df_valid['revenue_of_valid'] < 500000)]\n",
    "df_less_50 = df_valid[(df_valid['revenue_of_valid'] >= 0) & (df_valid['revenue_of_valid'] < 50000)]"
   ]
  },
  {
   "cell_type": "code",
   "execution_count": 220,
   "metadata": {},
   "outputs": [
    {
     "name": "stdout",
     "output_type": "stream",
     "text": [
      "38\n"
     ]
    },
    {
     "data": {
      "image/png": "[encoded data removed]",
      "text/plain": [
       "<Figure size 432x288 with 1 Axes>"
      ]
     },
     "metadata": {
      "needs_background": "light"
     },
     "output_type": "display_data"
    }
   ],
   "source": [
    "df_100kplus.revenue_of_valid.hist()\n",
    "print(df_100kplus.shape[0])"
   ]
  },
  {
   "cell_type": "code",
   "execution_count": 221,
   "metadata": {},
   "outputs": [
    {
     "name": "stdout",
     "output_type": "stream",
     "text": [
      "62\n"
     ]
    },
    {
     "data": {
      "image/png": "[encoded data removed]",
      "text/plain": [
       "<Figure size 432x288 with 1 Axes>"
      ]
     },
     "metadata": {
      "needs_background": "light"
     },
     "output_type": "display_data"
    }
   ],
   "source": [
    "df_50kplus.revenue_of_valid.hist()\n",
    "print(df_50kplus.shape[0])"
   ]
  },
  {
   "cell_type": "code",
   "execution_count": 222,
   "metadata": {},
   "outputs": [
    {
     "name": "stdout",
     "output_type": "stream",
     "text": [
      "240\n"
     ]
    },
    {
     "data": {
      "image/png": "[encoded data removed]",
      "text/plain": [
       "<Figure size 432x288 with 1 Axes>"
      ]
     },
     "metadata": {
      "needs_background": "light"
     },
     "output_type": "display_data"
    }
   ],
   "source": [
    "df_20kplus.revenue_of_valid.hist()\n",
    "print(df_20kplus.shape[0])"
   ]
  },
  {
   "cell_type": "code",
   "execution_count": 223,
   "metadata": {},
   "outputs": [
    {
     "name": "stdout",
     "output_type": "stream",
     "text": [
      "963\n"
     ]
    },
    {
     "data": {
      "image/png": "[encoded data removed]",
      "text/plain": [
       "<Figure size 432x288 with 1 Axes>"
      ]
     },
     "metadata": {
      "needs_background": "light"
     },
     "output_type": "display_data"
    }
   ],
   "source": [
    "df_5kplus.revenue_of_valid.hist()\n",
    "print(df_5kplus.shape[0])"
   ]
  },
  {
   "cell_type": "code",
   "execution_count": 224,
   "metadata": {},
   "outputs": [
    {
     "name": "stdout",
     "output_type": "stream",
     "text": [
      "2855\n"
     ]
    },
    {
     "data": {
      "image/png": "[encoded data removed]",
      "text/plain": [
       "<Figure size 432x288 with 1 Axes>"
      ]
     },
     "metadata": {
      "needs_background": "light"
     },
     "output_type": "display_data"
    }
   ],
   "source": [
    "df_1kplus.revenue_of_valid.hist()\n",
    "print(df_1kplus.shape[0])"
   ]
  },
  {
   "cell_type": "code",
   "execution_count": 225,
   "metadata": {},
   "outputs": [
    {
     "name": "stdout",
     "output_type": "stream",
     "text": [
      "8473\n"
     ]
    },
    {
     "data": {
      "image/png": "[encoded data removed]",
      "text/plain": [
       "<Figure size 432x288 with 1 Axes>"
      ]
     },
     "metadata": {
      "needs_background": "light"
     },
     "output_type": "display_data"
    }
   ],
   "source": [
    "df_0plus.revenue_of_valid.hist()\n",
    "print(df_0plus.shape[0])"
   ]
  },
  {
   "cell_type": "code",
   "execution_count": 218,
   "metadata": {},
   "outputs": [
    {
     "data": {
      "text/plain": [
       "<matplotlib.axes._subplots.AxesSubplot at 0x128f6ef60>"
      ]
     },
     "execution_count": 218,
     "metadata": {},
     "output_type": "execute_result"
    },
    {
     "data": {
      "image/png": "[encoded data removed]",
      "text/plain": [
       "<Figure size 432x288 with 1 Axes>"
      ]
     },
     "metadata": {
      "needs_background": "light"
     },
     "output_type": "display_data"
    }
   ],
   "source": [
    "df_less_50.revenue_of_valid.hist()"
   ]
  },
  {
   "cell_type": "markdown",
   "metadata": {},
   "source": [
    "Now lets have a look to the events that actually generate money!"
   ]
  },
  {
   "cell_type": "code",
   "execution_count": 171,
   "metadata": {},
   "outputs": [],
   "source": [
    "df_valid_events_that_matter = df_valid[df_valid['revenue_of_valid'] > 0]"
   ]
  },
  {
   "cell_type": "code",
   "execution_count": 174,
   "metadata": {},
   "outputs": [
    {
     "data": {
      "text/plain": [
       "0.02882551364612085"
      ]
     },
     "execution_count": 174,
     "metadata": {},
     "output_type": "execute_result"
    }
   ],
   "source": [
    "1 - (df_valid_events_that_matter.shape[0] / df_valid.shape[0])"
   ]
  },
  {
   "cell_type": "markdown",
   "metadata": {},
   "source": [
    "thoughts:? how about predicting events that do not generate money? I wonder if it is related to description. Have a look later eh mate?"
   ]
  },
  {
   "cell_type": "markdown",
   "metadata": {},
   "source": [
    "**Findings**\n",
    "\n",
    "- Total number of fraud events: 1293\n",
    "\n",
    "- Avg Cost of all fraud events: $ 461\n",
    "\n",
    "- Total number of fraud events that harm the company: 329 (2.2%)\n",
    "\n",
    "- Avg. Cost of fraud events that harm the company: $ 1815\n",
    "\n",
    "- Avg. Revenue per valid customer: 2885.\n",
    "\n",
    "Okay, this is valuable information to generate a cost benefit matrix!"
   ]
  },
  {
   "cell_type": "markdown",
   "metadata": {},
   "source": []
  },
  {
   "cell_type": "code",
   "execution_count": null,
   "metadata": {},
   "outputs": [],
   "source": []
  },
  {
   "cell_type": "code",
   "execution_count": null,
   "metadata": {},
   "outputs": [],
   "source": []
  }
 ],
 "metadata": {
  "kernelspec": {
   "display_name": "Python 3",
   "language": "python",
   "name": "python3"
  },
  "language_info": {
   "codemirror_mode": {
    "name": "ipython",
    "version": 3
   },
   "file_extension": ".py",
   "mimetype": "text/x-python",
   "name": "python",
   "nbconvert_exporter": "python",
   "pygments_lexer": "ipython3",
   "version": "3.6.3"
  }
 },
 "nbformat": 4,
 "nbformat_minor": 2
}
